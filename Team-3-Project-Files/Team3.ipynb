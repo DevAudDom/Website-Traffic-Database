{
 "cells": [
  {
   "cell_type": "markdown",
   "id": "67edd684",
   "metadata": {},
   "source": [
    "# Hotel Queries in Jupyter Notebook"
   ]
  },
  {
   "cell_type": "code",
   "execution_count": 2,
   "id": "2566af06",
   "metadata": {},
   "outputs": [],
   "source": [
    "\n",
    "import psycopg2\n",
    "import pandas as pd\n",
    "import matplotlib.pyplot as plt\n",
    "import seaborn as sns\n",
    "\n",
    "DB_SETTINGS = {\n",
    "    'dbname': 'class_project',\n",
    "    'user': 'test',\n",
    "    'password': 'test',\n",
    "    'host': 'localhost',\n",
    "    'port': '5432'\n",
    "}\n",
    "\n",
    "def connect_db():\n",
    "    return psycopg2.connect(**DB_SETTINGS)\n",
    "\n",
    "def fetch_dataframe(query):\n",
    "    conn = connect_db()\n",
    "    df = pd.read_sql(query, conn)\n",
    "    conn.close()\n",
    "    return df\n",
    "\n",
    "def plot_combined_query(hotel_queries, x_col, y_col, title, kind='bar'):\n",
    "    all_data = []\n",
    "    for hotel, query in hotel_queries.items():\n",
    "        df = fetch_dataframe(query)\n",
    "        if not df.empty:\n",
    "            df['Hotel'] = hotel\n",
    "            all_data.append(df)\n",
    "    if not all_data:\n",
    "        print(\"No data available.\")\n",
    "        return\n",
    "    df_all = pd.concat(all_data)\n",
    "    plt.figure(figsize=(12, 7))\n",
    "    if kind == 'bar':\n",
    "        sns.barplot(data=df_all, x=x_col, y=y_col, hue='Hotel')\n",
    "    elif kind == 'line':\n",
    "        sns.lineplot(data=df_all, x=x_col, y=y_col, hue='Hotel', marker='o')\n",
    "    plt.title(title)\n",
    "    plt.xlabel(x_col)\n",
    "    plt.ylabel(y_col)\n",
    "    plt.xticks(rotation=45)\n",
    "    plt.tight_layout()\n",
    "    plt.show()\n"
   ]
  },
  {
   "cell_type": "code",
   "execution_count": 3,
   "id": "4724d72b",
   "metadata": {},
   "outputs": [
    {
     "ename": "OperationalError",
     "evalue": "connection to server at \"localhost\" (::1), port 5432 failed: FATAL:  database \"class_project\" does not exist\n",
     "output_type": "error",
     "traceback": [
      "\u001b[1;31m---------------------------------------------------------------------------\u001b[0m",
      "\u001b[1;31mOperationalError\u001b[0m                          Traceback (most recent call last)",
      "Cell \u001b[1;32mIn[3], line 1\u001b[0m\n\u001b[1;32m----> 1\u001b[0m \u001b[43mplot_combined_query\u001b[49m\u001b[43m(\u001b[49m\u001b[43m{\u001b[49m\u001b[38;5;124;43m'\u001b[39;49m\u001b[38;5;124;43mHilton\u001b[39;49m\u001b[38;5;124;43m'\u001b[39;49m\u001b[43m:\u001b[49m\u001b[43m \u001b[49m\u001b[38;5;124;43m'\u001b[39;49m\u001b[38;5;124;43mSELECT traffic_type, ROUND(100.0 * COUNT(*) / (SELECT COUNT(*) FROM hilton_access), 2) AS traffic_percentage FROM hilton_access a JOIN hilton_keyword k ON a.keyword_id = k.keyword_id GROUP BY traffic_type;\u001b[39;49m\u001b[38;5;124;43m'\u001b[39;49m\u001b[43m,\u001b[49m\u001b[43m \u001b[49m\u001b[38;5;124;43m'\u001b[39;49m\u001b[38;5;124;43mFour Seasons\u001b[39;49m\u001b[38;5;124;43m'\u001b[39;49m\u001b[43m:\u001b[49m\u001b[43m \u001b[49m\u001b[38;5;124;43m'\u001b[39;49m\u001b[38;5;124;43mSELECT traffic_type, ROUND(100.0 * COUNT(*) / (SELECT COUNT(*) FROM fourseasons_access), 2) AS traffic_percentage FROM fourseasons_access a JOIN fourseasons_keyword k ON a.keyword_id = k.keyword_id GROUP BY traffic_type;\u001b[39;49m\u001b[38;5;124;43m'\u001b[39;49m\u001b[43m,\u001b[49m\u001b[43m \u001b[49m\u001b[38;5;124;43m'\u001b[39;49m\u001b[38;5;124;43mMarriott\u001b[39;49m\u001b[38;5;124;43m'\u001b[39;49m\u001b[43m:\u001b[49m\u001b[43m \u001b[49m\u001b[38;5;124;43m'\u001b[39;49m\u001b[38;5;124;43mSELECT traffic_type, ROUND(100.0 * COUNT(*) / (SELECT COUNT(*) FROM marriott_access), 2) AS traffic_percentage FROM marriott_access a JOIN marriott_keyword k ON a.keyword_id = k.keyword_id GROUP BY traffic_type;\u001b[39;49m\u001b[38;5;124;43m'\u001b[39;49m\u001b[43m,\u001b[49m\u001b[43m \u001b[49m\u001b[38;5;124;43m'\u001b[39;49m\u001b[38;5;124;43mShangri-La\u001b[39;49m\u001b[38;5;124;43m'\u001b[39;49m\u001b[43m:\u001b[49m\u001b[43m \u001b[49m\u001b[38;5;124;43m'\u001b[39;49m\u001b[38;5;124;43mSELECT traffic_type, ROUND(100.0 * COUNT(*) / (SELECT COUNT(*) FROM shangri_access), 2) AS traffic_percentage FROM shangri_access a JOIN shangri_keyword k ON a.keyword_id = k.keyword_id GROUP BY traffic_type;\u001b[39;49m\u001b[38;5;124;43m'\u001b[39;49m\u001b[43m}\u001b[49m\u001b[43m,\u001b[49m\u001b[43m \u001b[49m\u001b[38;5;124;43m'\u001b[39;49m\u001b[38;5;124;43mtraffic_type\u001b[39;49m\u001b[38;5;124;43m'\u001b[39;49m\u001b[43m,\u001b[49m\u001b[43m \u001b[49m\u001b[38;5;124;43m'\u001b[39;49m\u001b[38;5;124;43mtraffic_percentage\u001b[39;49m\u001b[38;5;124;43m'\u001b[39;49m\u001b[43m,\u001b[49m\u001b[43m \u001b[49m\u001b[38;5;124;43m'\u001b[39;49m\u001b[38;5;124;43m1. Keyword Traffic \u001b[39;49m\u001b[38;5;124;43m%\u001b[39;49m\u001b[38;5;124;43m'\u001b[39;49m\u001b[43m,\u001b[49m\u001b[43m \u001b[49m\u001b[43mkind\u001b[49m\u001b[38;5;241;43m=\u001b[39;49m\u001b[38;5;124;43m'\u001b[39;49m\u001b[38;5;124;43mbar\u001b[39;49m\u001b[38;5;124;43m'\u001b[39;49m\u001b[43m)\u001b[49m\n",
      "Cell \u001b[1;32mIn[2], line 26\u001b[0m, in \u001b[0;36mplot_combined_query\u001b[1;34m(hotel_queries, x_col, y_col, title, kind)\u001b[0m\n\u001b[0;32m     24\u001b[0m all_data \u001b[38;5;241m=\u001b[39m []\n\u001b[0;32m     25\u001b[0m \u001b[38;5;28;01mfor\u001b[39;00m hotel, query \u001b[38;5;129;01min\u001b[39;00m hotel_queries\u001b[38;5;241m.\u001b[39mitems():\n\u001b[1;32m---> 26\u001b[0m     df \u001b[38;5;241m=\u001b[39m \u001b[43mfetch_dataframe\u001b[49m\u001b[43m(\u001b[49m\u001b[43mquery\u001b[49m\u001b[43m)\u001b[49m\n\u001b[0;32m     27\u001b[0m     \u001b[38;5;28;01mif\u001b[39;00m \u001b[38;5;129;01mnot\u001b[39;00m df\u001b[38;5;241m.\u001b[39mempty:\n\u001b[0;32m     28\u001b[0m         df[\u001b[38;5;124m'\u001b[39m\u001b[38;5;124mHotel\u001b[39m\u001b[38;5;124m'\u001b[39m] \u001b[38;5;241m=\u001b[39m hotel\n",
      "Cell \u001b[1;32mIn[2], line 18\u001b[0m, in \u001b[0;36mfetch_dataframe\u001b[1;34m(query)\u001b[0m\n\u001b[0;32m     17\u001b[0m \u001b[38;5;28;01mdef\u001b[39;00m\u001b[38;5;250m \u001b[39m\u001b[38;5;21mfetch_dataframe\u001b[39m(query):\n\u001b[1;32m---> 18\u001b[0m     conn \u001b[38;5;241m=\u001b[39m \u001b[43mconnect_db\u001b[49m\u001b[43m(\u001b[49m\u001b[43m)\u001b[49m\n\u001b[0;32m     19\u001b[0m     df \u001b[38;5;241m=\u001b[39m pd\u001b[38;5;241m.\u001b[39mread_sql(query, conn)\n\u001b[0;32m     20\u001b[0m     conn\u001b[38;5;241m.\u001b[39mclose()\n",
      "Cell \u001b[1;32mIn[2], line 15\u001b[0m, in \u001b[0;36mconnect_db\u001b[1;34m()\u001b[0m\n\u001b[0;32m     14\u001b[0m \u001b[38;5;28;01mdef\u001b[39;00m\u001b[38;5;250m \u001b[39m\u001b[38;5;21mconnect_db\u001b[39m():\n\u001b[1;32m---> 15\u001b[0m     \u001b[38;5;28;01mreturn\u001b[39;00m \u001b[43mpsycopg2\u001b[49m\u001b[38;5;241;43m.\u001b[39;49m\u001b[43mconnect\u001b[49m\u001b[43m(\u001b[49m\u001b[38;5;241;43m*\u001b[39;49m\u001b[38;5;241;43m*\u001b[39;49m\u001b[43mDB_SETTINGS\u001b[49m\u001b[43m)\u001b[49m\n",
      "File \u001b[1;32mc:\\Users\\domlu\\AppData\\Local\\Programs\\Python\\Python312\\Lib\\site-packages\\psycopg2\\__init__.py:122\u001b[0m, in \u001b[0;36mconnect\u001b[1;34m(dsn, connection_factory, cursor_factory, **kwargs)\u001b[0m\n\u001b[0;32m    119\u001b[0m     kwasync[\u001b[38;5;124m'\u001b[39m\u001b[38;5;124masync_\u001b[39m\u001b[38;5;124m'\u001b[39m] \u001b[38;5;241m=\u001b[39m kwargs\u001b[38;5;241m.\u001b[39mpop(\u001b[38;5;124m'\u001b[39m\u001b[38;5;124masync_\u001b[39m\u001b[38;5;124m'\u001b[39m)\n\u001b[0;32m    121\u001b[0m dsn \u001b[38;5;241m=\u001b[39m _ext\u001b[38;5;241m.\u001b[39mmake_dsn(dsn, \u001b[38;5;241m*\u001b[39m\u001b[38;5;241m*\u001b[39mkwargs)\n\u001b[1;32m--> 122\u001b[0m conn \u001b[38;5;241m=\u001b[39m \u001b[43m_connect\u001b[49m\u001b[43m(\u001b[49m\u001b[43mdsn\u001b[49m\u001b[43m,\u001b[49m\u001b[43m \u001b[49m\u001b[43mconnection_factory\u001b[49m\u001b[38;5;241;43m=\u001b[39;49m\u001b[43mconnection_factory\u001b[49m\u001b[43m,\u001b[49m\u001b[43m \u001b[49m\u001b[38;5;241;43m*\u001b[39;49m\u001b[38;5;241;43m*\u001b[39;49m\u001b[43mkwasync\u001b[49m\u001b[43m)\u001b[49m\n\u001b[0;32m    123\u001b[0m \u001b[38;5;28;01mif\u001b[39;00m cursor_factory \u001b[38;5;129;01mis\u001b[39;00m \u001b[38;5;129;01mnot\u001b[39;00m \u001b[38;5;28;01mNone\u001b[39;00m:\n\u001b[0;32m    124\u001b[0m     conn\u001b[38;5;241m.\u001b[39mcursor_factory \u001b[38;5;241m=\u001b[39m cursor_factory\n",
      "\u001b[1;31mOperationalError\u001b[0m: connection to server at \"localhost\" (::1), port 5432 failed: FATAL:  database \"class_project\" does not exist\n"
     ]
    }
   ],
   "source": [
    "plot_combined_query({'Hilton': 'SELECT traffic_type, ROUND(100.0 * COUNT(*) / (SELECT COUNT(*) FROM hilton_access), 2) AS traffic_percentage FROM hilton_access a JOIN hilton_keyword k ON a.keyword_id = k.keyword_id GROUP BY traffic_type;', 'Four Seasons': 'SELECT traffic_type, ROUND(100.0 * COUNT(*) / (SELECT COUNT(*) FROM fourseasons_access), 2) AS traffic_percentage FROM fourseasons_access a JOIN fourseasons_keyword k ON a.keyword_id = k.keyword_id GROUP BY traffic_type;', 'Marriott': 'SELECT traffic_type, ROUND(100.0 * COUNT(*) / (SELECT COUNT(*) FROM marriott_access), 2) AS traffic_percentage FROM marriott_access a JOIN marriott_keyword k ON a.keyword_id = k.keyword_id GROUP BY traffic_type;', 'Shangri-La': 'SELECT traffic_type, ROUND(100.0 * COUNT(*) / (SELECT COUNT(*) FROM shangri_access), 2) AS traffic_percentage FROM shangri_access a JOIN shangri_keyword k ON a.keyword_id = k.keyword_id GROUP BY traffic_type;'}, 'traffic_type', 'traffic_percentage', '1. Keyword Traffic %', kind='bar')"
   ]
  },
  {
   "cell_type": "code",
   "execution_count": null,
   "id": "8dee7363",
   "metadata": {},
   "outputs": [],
   "source": [
    "plot_combined_query({'Hilton': \"SELECT TO_CHAR(access_date, 'YYYY-MM') AS month, COUNT(CASE WHEN pages_visited = '1' THEN 1 END) * 100.0 / COUNT(*) AS bounce_rate FROM hilton_access GROUP BY month ORDER BY month;\", 'Four Seasons': \"SELECT TO_CHAR(access_date, 'YYYY-MM') AS month, COUNT(CASE WHEN pages_visited = '1' THEN 1 END) * 100.0 / COUNT(*) AS bounce_rate FROM fourseasons_access GROUP BY month ORDER BY month;\", 'Marriott': \"SELECT TO_CHAR(access_date, 'YYYY-MM') AS month, COUNT(CASE WHEN pages_visited = '1' THEN 1 END) * 100.0 / COUNT(*) AS bounce_rate FROM marriott_access GROUP BY month ORDER BY month;\", 'Shangri-La': \"SELECT TO_CHAR(access_date, 'YYYY-MM') AS month, COUNT(CASE WHEN pages_visited = '1' THEN 1 END) * 100.0 / COUNT(*) AS bounce_rate FROM shangri_access GROUP BY month ORDER BY month;\"}, 'month', 'bounce_rate', '2. Monthly Bounce Rate', kind='line')"
   ]
  },
  {
   "cell_type": "code",
   "execution_count": null,
   "id": "38e5111e",
   "metadata": {},
   "outputs": [],
   "source": [
    "plot_combined_query({'Hilton': \"SELECT 'Hilton' AS Hotel, ROUND(AVG(EXTRACT(EPOCH FROM session_duration)), 0) AS avg_session_duration_seconds FROM hilton_access;\", 'Four Seasons': \"SELECT 'Four Seasons' AS Hotel, ROUND(AVG(EXTRACT(EPOCH FROM session_duration)), 0) AS avg_session_duration_seconds FROM fourseasons_access;\", 'Marriott': \"SELECT 'Marriott' AS Hotel, ROUND(AVG(EXTRACT(EPOCH FROM session_duration)), 0) AS avg_session_duration_seconds FROM marriott_access;\", 'Shangri-La': \"SELECT 'Shangri-La' AS Hotel, ROUND(AVG(EXTRACT(EPOCH FROM session_duration)), 0) AS avg_session_duration_seconds FROM shangri_access;\"}, 'Hotel', 'avg_session_duration_seconds', '3. Avg Session Duration (s)', kind='bar')"
   ]
  },
  {
   "cell_type": "code",
   "execution_count": null,
   "id": "ecebfabb",
   "metadata": {},
   "outputs": [],
   "source": [
    "plot_combined_query({'Hilton': \"SELECT 'Hilton' AS Hotel, ROUND(AVG(CAST(pages_visited AS INTEGER)), 2) AS avg_pages_per_visit FROM hilton_access;\", 'Four Seasons': \"SELECT 'Four Seasons' AS Hotel, ROUND(AVG(CAST(pages_visited AS INTEGER)), 2) AS avg_pages_per_visit FROM fourseasons_access;\", 'Marriott': \"SELECT 'Marriott' AS Hotel, ROUND(AVG(CAST(pages_visited AS INTEGER)), 2) AS avg_pages_per_visit FROM marriott_access;\", 'Shangri-La': \"SELECT 'Shangri-La' AS Hotel, ROUND(AVG(CAST(pages_visited AS INTEGER)), 2) AS avg_pages_per_visit FROM shangri_access;\"}, 'Hotel', 'avg_pages_per_visit', '4. Avg Pages Per Visit', kind='bar')"
   ]
  },
  {
   "cell_type": "code",
   "execution_count": null,
   "id": "625ed77f",
   "metadata": {},
   "outputs": [],
   "source": [
    "plot_combined_query({'Hilton': \"SELECT 'Hilton' AS Hotel, ROUND(SUM(CASE WHEN pages_visited = '1' THEN 1 ELSE 0 END) * 100.0 / COUNT(*), 2) AS bounce_rate FROM hilton_access;\", 'Four Seasons': \"SELECT 'Four Seasons' AS Hotel, ROUND(SUM(CASE WHEN pages_visited = '1' THEN 1 ELSE 0 END) * 100.0 / COUNT(*), 2) AS bounce_rate FROM fourseasons_access;\", 'Marriott': \"SELECT 'Marriott' AS Hotel, ROUND(SUM(CASE WHEN pages_visited = '1' THEN 1 ELSE 0 END) * 100.0 / COUNT(*), 2) AS bounce_rate FROM marriott_access;\", 'Shangri-La': \"SELECT 'Shangri-La' AS Hotel, ROUND(SUM(CASE WHEN pages_visited = '1' THEN 1 ELSE 0 END) * 100.0 / COUNT(*), 2) AS bounce_rate FROM shangri_access;\"}, 'Hotel', 'bounce_rate', '5. Overall Bounce Rate', kind='bar')"
   ]
  },
  {
   "cell_type": "code",
   "execution_count": null,
   "id": "2b384d21",
   "metadata": {},
   "outputs": [],
   "source": [
    "plot_combined_query({'Hilton': 'SELECT gender, ROUND(100.0 * COUNT(*) / (SELECT COUNT(*) FROM hilton_visitor), 2) AS gender_percentage FROM hilton_visitor GROUP BY gender;', 'Four Seasons': 'SELECT gender, ROUND(100.0 * COUNT(*) / (SELECT COUNT(*) FROM fourseasons_visitor), 2) AS gender_percentage FROM fourseasons_visitor GROUP BY gender;', 'Marriott': 'SELECT gender, ROUND(100.0 * COUNT(*) / (SELECT COUNT(*) FROM marriott_visitor), 2) AS gender_percentage FROM marriott_visitor GROUP BY gender;', 'Shangri-La': 'SELECT gender, ROUND(100.0 * COUNT(*) / (SELECT COUNT(*) FROM shangri_visitor), 2) AS gender_percentage FROM shangri_visitor GROUP BY gender;'}, 'gender', 'gender_percentage', '6. Gender %', kind='bar')"
   ]
  },
  {
   "cell_type": "code",
   "execution_count": null,
   "id": "8a51c9a1",
   "metadata": {},
   "outputs": [],
   "source": [
    "plot_combined_query({'Hilton': 'SELECT age_group, ROUND(100.0 * COUNT(*) / (SELECT COUNT(*) FROM hilton_visitor), 2) AS age_group_percentage FROM hilton_visitor GROUP BY age_group;', 'Four Seasons': 'SELECT age_group, ROUND(100.0 * COUNT(*) / (SELECT COUNT(*) FROM fourseasons_visitor), 2) AS age_group_percentage FROM fourseasons_visitor GROUP BY age_group;', 'Marriott': 'SELECT age_group, ROUND(100.0 * COUNT(*) / (SELECT COUNT(*) FROM marriott_visitor), 2) AS age_group_percentage FROM marriott_visitor GROUP BY age_group;', 'Shangri-La': 'SELECT age_group, ROUND(100.0 * COUNT(*) / (SELECT COUNT(*) FROM shangri_visitor), 2) AS age_group_percentage FROM shangri_visitor GROUP BY age_group;'}, 'age_group', 'age_group_percentage', '7. Age Group %', kind='bar')"
   ]
  },
  {
   "cell_type": "code",
   "execution_count": null,
   "id": "2b7c5faa",
   "metadata": {},
   "outputs": [],
   "source": [
    "plot_combined_query({'Hilton': 'SELECT country, ROUND(100.0 * COUNT(*) / (SELECT COUNT(*) FROM hilton_visitor), 2) AS country_percentage FROM hilton_visitor GROUP BY country ORDER BY country_percentage DESC;', 'Four Seasons': 'SELECT country, ROUND(100.0 * COUNT(*) / (SELECT COUNT(*) FROM fourseasons_visitor), 2) AS country_percentage FROM fourseasons_visitor GROUP BY country ORDER BY country_percentage DESC;', 'Marriott': 'SELECT country, ROUND(100.0 * COUNT(*) / (SELECT COUNT(*) FROM marriott_visitor), 2) AS country_percentage FROM marriott_visitor GROUP BY country ORDER BY country_percentage DESC;', 'Shangri-La': 'SELECT country, ROUND(100.0 * COUNT(*) / (SELECT COUNT(*) FROM shangri_visitor), 2) AS country_percentage FROM shangri_visitor GROUP BY country ORDER BY country_percentage DESC;'}, 'country', 'country_percentage', '8. Country %', kind='bar')"
   ]
  },
  {
   "cell_type": "code",
   "execution_count": null,
   "id": "46542019",
   "metadata": {},
   "outputs": [],
   "source": [
    "plot_combined_query({'Hilton': \"SELECT TO_CHAR(access_date, 'YYYY-MM') AS month, COUNT(*) AS total_accesses FROM hilton_access GROUP BY month ORDER BY month;\", 'Four Seasons': \"SELECT TO_CHAR(access_date, 'YYYY-MM') AS month, COUNT(*) AS total_accesses FROM fourseasons_access GROUP BY month ORDER BY month;\", 'Marriott': \"SELECT TO_CHAR(access_date, 'YYYY-MM') AS month, COUNT(*) AS total_accesses FROM marriott_access GROUP BY month ORDER BY month;\", 'Shangri-La': \"SELECT TO_CHAR(access_date, 'YYYY-MM') AS month, COUNT(*) AS total_accesses FROM shangri_access GROUP BY month ORDER BY month;\"}, 'month', 'total_accesses', '9. Total Monthly Accesses', kind='line')"
   ]
  },
  {
   "cell_type": "code",
   "execution_count": null,
   "id": "0a57fc35",
   "metadata": {},
   "outputs": [],
   "source": [
    "plot_combined_query({'Hilton': \"SELECT TO_CHAR(access_date, 'YYYY-MM') AS month, AVG(CAST(pages_visited AS INTEGER)) AS average_pages_visited FROM hilton_access GROUP BY month ORDER BY month;\", 'Four Seasons': \"SELECT TO_CHAR(access_date, 'YYYY-MM') AS month, AVG(CAST(pages_visited AS INTEGER)) AS average_pages_visited FROM fourseasons_access GROUP BY month ORDER BY month;\", 'Marriott': \"SELECT TO_CHAR(access_date, 'YYYY-MM') AS month, AVG(CAST(pages_visited AS INTEGER)) AS average_pages_visited FROM marriott_access GROUP BY month ORDER BY month;\", 'Shangri-La': \"SELECT TO_CHAR(access_date, 'YYYY-MM') AS month, AVG(CAST(pages_visited AS INTEGER)) AS average_pages_visited FROM shangri_access GROUP BY month ORDER BY month;\"}, 'month', 'average_pages_visited', '10. Avg Pages Visited/Month', kind='line')"
   ]
  },
  {
   "cell_type": "code",
   "execution_count": null,
   "id": "72a9ad23",
   "metadata": {},
   "outputs": [],
   "source": [
    "plot_combined_query({'Hilton': 'SELECT device, ROUND((COUNT(*) * 100.0 / (SELECT COUNT(*) FROM hilton_access)), 2) AS percentage FROM hilton_access GROUP BY device ORDER BY percentage DESC;', 'Four Seasons': 'SELECT device, ROUND((COUNT(*) * 100.0 / (SELECT COUNT(*) FROM fourseasons_access)), 2) AS percentage FROM fourseasons_access GROUP BY device ORDER BY percentage DESC;', 'Marriott': 'SELECT device, ROUND((COUNT(*) * 100.0 / (SELECT COUNT(*) FROM marriott_access)), 2) AS percentage FROM marriott_access GROUP BY device ORDER BY percentage DESC;', 'Shangri-La': 'SELECT device, ROUND((COUNT(*) * 100.0 / (SELECT COUNT(*) FROM shangri_access)), 2) AS percentage FROM shangri_access GROUP BY device ORDER BY percentage DESC;'}, 'device', 'percentage', '11. Device Usage %', kind='bar')"
   ]
  },
  {
   "cell_type": "code",
   "execution_count": null,
   "id": "355a54d6",
   "metadata": {},
   "outputs": [],
   "source": [
    "plot_combined_query({'Hilton': \"SELECT TO_CHAR(access_date, 'YYYY-MM') AS month, AVG(EXTRACT(EPOCH FROM session_duration)) AS average_session_duration FROM hilton_access GROUP BY month ORDER BY month;\", 'Four Seasons': \"SELECT TO_CHAR(access_date, 'YYYY-MM') AS month, AVG(EXTRACT(EPOCH FROM session_duration)) AS average_session_duration FROM fourseasons_access GROUP BY month ORDER BY month;\", 'Marriott': \"SELECT TO_CHAR(access_date, 'YYYY-MM') AS month, AVG(EXTRACT(EPOCH FROM session_duration)) AS average_session_duration FROM marriott_access GROUP BY month ORDER BY month;\", 'Shangri-La': \"SELECT TO_CHAR(access_date, 'YYYY-MM') AS month, AVG(EXTRACT(EPOCH FROM session_duration)) AS average_session_duration FROM shangri_access GROUP BY month ORDER BY month;\"}, 'month', 'average_session_duration', '12. Avg Session Duration/Month', kind='line')"
   ]
  },
  {
   "cell_type": "code",
   "execution_count": null,
   "id": "31e21e63",
   "metadata": {},
   "outputs": [],
   "source": [
    "plot_combined_query({'Shangri-La': 'SELECT v.country, AVG(EXTRACT(EPOCH FROM session_duration)) AS avg_session_duration_seconds FROM shangri_access a JOIN shangri_visitor v ON a.visitor_id = v.visitor_id GROUP BY v.country;'}, 'country', 'avg_session_duration_seconds', '13. Avg Session Duration by Country', kind='bar')"
   ]
  }
 ],
 "metadata": {
  "kernelspec": {
   "display_name": "Python 3",
   "language": "python",
   "name": "python3"
  },
  "language_info": {
   "codemirror_mode": {
    "name": "ipython",
    "version": 3
   },
   "file_extension": ".py",
   "mimetype": "text/x-python",
   "name": "python",
   "nbconvert_exporter": "python",
   "pygments_lexer": "ipython3",
   "version": "3.12.0"
  }
 },
 "nbformat": 4,
 "nbformat_minor": 5
}
